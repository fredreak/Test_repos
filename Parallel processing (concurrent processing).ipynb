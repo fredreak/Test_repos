{
 "cells": [
  {
   "cell_type": "markdown",
   "metadata": {},
   "source": [
    "## Thumbnail Maker"
   ]
  },
  {
   "cell_type": "markdown",
   "metadata": {},
   "source": [
    "Take photo, make resize into smaller images."
   ]
  },
  {
   "cell_type": "markdown",
   "metadata": {},
   "source": [
    "Typical Workflow:\n",
    "\n",
    "1) Download image from the source location\n",
    "- This is an IO task. Meanining asynchronous programming helps\n",
    "\n",
    "2) Perform resize operation\n",
    "- This is processing task, so we'll use parallel programming\n",
    "\n",
    "3) Upload resized image to target location\n",
    "\n",
    "\n",
    "Will only do first two here, as it's sufficient to illustrate"
   ]
  },
  {
   "cell_type": "markdown",
   "metadata": {},
   "source": [
    "Start med single thread (nå) og del opp etterhvert. See thumbnail_maker.py (brukte spyder da Jupyter ikke funka)"
   ]
  },
  {
   "cell_type": "markdown",
   "metadata": {},
   "source": [
    " ### VIKTIG:\n",
    "Se av vi over i make_thumbnails metoden har delt inn koden i to deler: \n",
    "En os-basert del \"download_images()\" og en CPU-basert del \"perform_resizing()\".\n",
    "Siden man bruker ulike former av concurrency for å optimalisere OS- vs CPU-baserte\n",
    "oppgaver, så lønner det seg IKKE å blande disse to typene handlinger. \n",
    "Dvs: Koden blir mindre effektiv dersom en skriver OS sammen med CPU basert oppgaver,\n",
    "siden man ikke kan optimalisere begge samtidig :) \n",
    "  \n",
    "TASK       METHOD    \n",
    " OS <-> Asynchronous programming\n",
    "CPU <-> parallel processing"
   ]
  },
  {
   "cell_type": "markdown",
   "metadata": {},
   "source": [
    "## Threads"
   ]
  },
  {
   "cell_type": "markdown",
   "metadata": {},
   "source": [
    "### Process \n",
    "= the exectuion context of a running program <br>\n",
    "= a running instance of a computer program <br>\n",
    "Så basicly: En kode er bare en samling instruksjoner. En prosess referer til en execution av de instruksjonene. <br>\n",
    "\n",
    "### Thread\n",
    "= The smallest sequence of instruction that can be managed (scheduled and executed) by the operating system\n",
    "\n",
    "\n",
    "### Program\n",
    "Kan bestå av en eller flere threads. Multiple threads betyr at en process kan utføre flere oppgaver samtidig. \n",
    "\n",
    "### Eksmepel threads, Music program:\n",
    "Thread 1: Play current song <br>\n",
    "Thread 2: Figure out what the next song in queue is, and download it. <br>\n",
    "Thread 3: Responder til brukerens trykk og navigering"
   ]
  },
  {
   "cell_type": "code",
   "execution_count": 1,
   "metadata": {},
   "outputs": [
    {
     "name": "stdout",
     "output_type": "stream",
     "text": [
      "doing som work in thread\n",
      "echo: text\n",
      "done\n"
     ]
    }
   ],
   "source": [
    "import threading\n",
    "\n",
    "def do_work(val):\n",
    "    print(\"doing som work in thread\")\n",
    "    print(\"echo: {}\".format(val))\n",
    "    return\n",
    "\n",
    "val = \"text\"  #1\n",
    "t = threading.Thread(target = do_work, args=(val,)) #2\n",
    "t.start() #3\n",
    "t.join() #4 BLOCK MAIN THREAD AND TELL MAIN TO WAIT FOR \"SOMETHING\" TO HAPPEN -> THRD 1 (t) goes into running state\n",
    "print(\"done\") #5\n",
    "\n"
   ]
  },
  {
   "cell_type": "markdown",
   "metadata": {},
   "source": [
    "### Det som skjer, kronologisk:\n",
    " - MAIN THREAD STARTS\n",
    " - import ... \n",
    " - def do_work ...\n",
    " - make variable val = \"text\"\n",
    " - create -------------> Thread 1 - New (The thread is in a \"new\" state)\n",
    " - start --------------> Thread 1 - Start (The thread is now in a \"ready\" state, meaning it's available for the OS to run on a CPU)                         \n",
    " - Main thread calls join. It goes from \"running\" to \"blocked\" state, making it temporarily suspended until \"something happens\". That \"something\" is here the exectuion of thread 1\n",
    " - Thread 1 goes into running state and executes the two print instructions. \n",
    " - Thread 1 terminates when method is completed\n",
    " - This signals to the main thread that is can go into \"ready\" state and finish the execution.\n",
    " \n",
    " \n",
    " ### Life span of threads\n",
    " New -> Ready <--> Running --> Terminated <br>\n",
    "&emsp; &emsp;&emsp;&ensp;&nbsp;   ^-- Blocked <--'\n",
    "\n",
    "Goes from new to ready when .start() is called <br>\n",
    "From there it goes back and forth between ready and running state. So when it's activly execution on a CPU it's in running, else it's in ready. <br>\n",
    "If a situation arises where the thread needs to wait for a specific condition to occour before continuing execution, it goes into blocked state. For example while waiting for an IO operation to complete.\n",
    "Terminates when it's done, or when an unhandled expectation occours.\n",
    "\n",
    "## The scheduler\n",
    "An operating system (OS) module. Selects the next jobs to be admitted into the system and the next process to run.\n",
    "Also how long they get to run before being suspended, and what processor core they run on. <br>\n",
    "\n",
    "The schedulerer uses an algorythm that may decide a thread should be suspended mid execution to make room for another thread waiting for processor time. It then decides which thread should be selected and performs a \"context switch\" to cycle the running thread out of the CPU and the selected thread in.\n",
    "\n",
    "### Context switch\n",
    "The process of saving and restoring the state of a thread or process. (Used when switching in between threads)\n",
    "\n",
    "If selected thread is from a different process, a full process switch occours - expensive process.\n",
    "However, if  it's a  thread from the safe process the thread swtich is executed.  less expensive process\n",
    "\n",
    "### Egen counter, register og stack\n",
    "#### Counter\n",
    "Maintains the instructions that have been executed at a given time\n",
    "#### Register\n",
    "Holds data being used in computation\n",
    "#### Stack\n",
    "Memory set aside as scratch space for a thread. <br>\n",
    "Lokale variabler i en funksjon ligger på stacken -> Ingen fare for at ulike threads ødlegger for andre threads her. "
   ]
  },
  {
   "cell_type": "code",
   "execution_count": null,
   "metadata": {},
   "outputs": [],
   "source": []
  }
 ],
 "metadata": {
  "kernelspec": {
   "display_name": "Python 3",
   "language": "python",
   "name": "python3"
  },
  "language_info": {
   "codemirror_mode": {
    "name": "ipython",
    "version": 3
   },
   "file_extension": ".py",
   "mimetype": "text/x-python",
   "name": "python",
   "nbconvert_exporter": "python",
   "pygments_lexer": "ipython3",
   "version": "3.7.4"
  }
 },
 "nbformat": 4,
 "nbformat_minor": 4
}
